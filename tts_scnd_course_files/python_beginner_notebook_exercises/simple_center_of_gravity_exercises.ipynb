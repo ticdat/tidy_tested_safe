{
 "cells": [
  {
   "cell_type": "markdown",
   "metadata": {},
   "source": [
    "## Center of Gravity solver\n",
    "\n",
    "In order to run this notebook, you will need the `9_cities_dataset` and `200_cities_dataset` directories. \n",
    "You will also need `pandas` installed (which comes with Anaconda).\n",
    "\n",
    "This notebook begins with the **9_cities_dataset loaded into memory** section. You don't need to edit any code here - just-rerun the notebook to execute this code on your computer. This subsection loads the `9_cities_dataset` into memory in two different formats - `pandas.DataFrame` format and Python dictionary format. You will use whichever of these data structures are more convenient for you when you complete the last two sections.\n",
    "\n",
    "The **The Center of Gravity Problem** section is next. This presents the system of equations that define the Center of Gravity Problem.\n",
    "\n",
    "The next two sections present you with two tasks. You will have to write code to complete these two sections.\n",
    " 1. **Solve the Center of Gravity Problem for 9 cities**. Your task here is to implement a Mixed Integer Program based on the `9_cities_dataset`. You can use either of the two formats (DataFrames or dictionaries) for your input data. I recommend using `gurobipy`, but you can use whatever MIP API you prefer.\n",
    " 1. **Solve the Center of Gravity Problem for 200 cities** Your task here is to create and solve the MIP from the `200_cities_dataset`. In this case, you will also have to write the code reading the input data set into memory, but you can use the the __9_cities_dataset loaded into memory__ code as an example.\n",
    " \n",
    "###  9_cities_dataset loaded into memory\n",
    "\n",
    "In this subsection, I will load the `9_cities_dataset` into memory. You will not need to edit any of the code in this section."
   ]
  },
  {
   "cell_type": "code",
   "execution_count": 1,
   "metadata": {},
   "outputs": [
    {
     "data": {
      "text/html": [
       "<div>\n",
       "<style scoped>\n",
       "    .dataframe tbody tr th:only-of-type {\n",
       "        vertical-align: middle;\n",
       "    }\n",
       "\n",
       "    .dataframe tbody tr th {\n",
       "        vertical-align: top;\n",
       "    }\n",
       "\n",
       "    .dataframe thead th {\n",
       "        text-align: right;\n",
       "    }\n",
       "</style>\n",
       "<table border=\"1\" class=\"dataframe\">\n",
       "  <thead>\n",
       "    <tr style=\"text-align: right;\">\n",
       "      <th></th>\n",
       "      <th>Name</th>\n",
       "      <th>Demand</th>\n",
       "    </tr>\n",
       "  </thead>\n",
       "  <tbody>\n",
       "    <tr>\n",
       "      <th>0</th>\n",
       "      <td>Boston</td>\n",
       "      <td>610000</td>\n",
       "    </tr>\n",
       "    <tr>\n",
       "      <th>1</th>\n",
       "      <td>Atlanta</td>\n",
       "      <td>572000</td>\n",
       "    </tr>\n",
       "    <tr>\n",
       "      <th>2</th>\n",
       "      <td>New York</td>\n",
       "      <td>8450000</td>\n",
       "    </tr>\n",
       "    <tr>\n",
       "      <th>3</th>\n",
       "      <td>St. Louis</td>\n",
       "      <td>350000</td>\n",
       "    </tr>\n",
       "    <tr>\n",
       "      <th>4</th>\n",
       "      <td>Detroit</td>\n",
       "      <td>901000</td>\n",
       "    </tr>\n",
       "    <tr>\n",
       "      <th>5</th>\n",
       "      <td>Cincinnati</td>\n",
       "      <td>333000</td>\n",
       "    </tr>\n",
       "    <tr>\n",
       "      <th>6</th>\n",
       "      <td>Pittsburgh</td>\n",
       "      <td>306000</td>\n",
       "    </tr>\n",
       "    <tr>\n",
       "      <th>7</th>\n",
       "      <td>Charlotte</td>\n",
       "      <td>723000</td>\n",
       "    </tr>\n",
       "    <tr>\n",
       "      <th>8</th>\n",
       "      <td>Chicago</td>\n",
       "      <td>2870000</td>\n",
       "    </tr>\n",
       "  </tbody>\n",
       "</table>\n",
       "</div>"
      ],
      "text/plain": [
       "         Name   Demand\n",
       "0      Boston   610000\n",
       "1     Atlanta   572000\n",
       "2    New York  8450000\n",
       "3   St. Louis   350000\n",
       "4     Detroit   901000\n",
       "5  Cincinnati   333000\n",
       "6  Pittsburgh   306000\n",
       "7   Charlotte   723000\n",
       "8     Chicago  2870000"
      ]
     },
     "execution_count": 1,
     "metadata": {},
     "output_type": "execute_result"
    }
   ],
   "source": [
    "import pandas as pd\n",
    "import os\n",
    "small_cities_df = pd.read_csv(os.path.join(\"9_cities_dataset\", \"cities.csv\"))\n",
    "small_cities_df"
   ]
  },
  {
   "cell_type": "code",
   "execution_count": 2,
   "metadata": {},
   "outputs": [
    {
     "data": {
      "text/plain": [
       "{'Boston': 610000,\n",
       " 'Atlanta': 572000,\n",
       " 'New York': 8450000,\n",
       " 'St. Louis': 350000,\n",
       " 'Detroit': 901000,\n",
       " 'Cincinnati': 333000,\n",
       " 'Pittsburgh': 306000,\n",
       " 'Charlotte': 723000,\n",
       " 'Chicago': 2870000}"
      ]
     },
     "execution_count": 2,
     "metadata": {},
     "output_type": "execute_result"
    }
   ],
   "source": [
    "small_cities_dict = {row[0]:row[1] for row in small_cities_df.itertuples(index=False)}\n",
    "small_cities_dict"
   ]
  },
  {
   "cell_type": "markdown",
   "metadata": {},
   "source": [
    "I've now created two representations of the cities data - one as a `pandas.DataFrame` and one as a dictionary mapping city name to demand.\n",
    "\n",
    "I will now similarly create two representations of the distances data"
   ]
  },
  {
   "cell_type": "code",
   "execution_count": 3,
   "metadata": {},
   "outputs": [
    {
     "data": {
      "text/html": [
       "<div>\n",
       "<style scoped>\n",
       "    .dataframe tbody tr th:only-of-type {\n",
       "        vertical-align: middle;\n",
       "    }\n",
       "\n",
       "    .dataframe tbody tr th {\n",
       "        vertical-align: top;\n",
       "    }\n",
       "\n",
       "    .dataframe thead th {\n",
       "        text-align: right;\n",
       "    }\n",
       "</style>\n",
       "<table border=\"1\" class=\"dataframe\">\n",
       "  <thead>\n",
       "    <tr style=\"text-align: right;\">\n",
       "      <th></th>\n",
       "      <th>Source</th>\n",
       "      <th>Destination</th>\n",
       "      <th>Distance</th>\n",
       "    </tr>\n",
       "  </thead>\n",
       "  <tbody>\n",
       "    <tr>\n",
       "      <th>0</th>\n",
       "      <td>Boston</td>\n",
       "      <td>Boston</td>\n",
       "      <td>0</td>\n",
       "    </tr>\n",
       "    <tr>\n",
       "      <th>1</th>\n",
       "      <td>Atlanta</td>\n",
       "      <td>Atlanta</td>\n",
       "      <td>0</td>\n",
       "    </tr>\n",
       "    <tr>\n",
       "      <th>2</th>\n",
       "      <td>New York</td>\n",
       "      <td>New York</td>\n",
       "      <td>0</td>\n",
       "    </tr>\n",
       "    <tr>\n",
       "      <th>3</th>\n",
       "      <td>St. Louis</td>\n",
       "      <td>St. Louis</td>\n",
       "      <td>0</td>\n",
       "    </tr>\n",
       "    <tr>\n",
       "      <th>4</th>\n",
       "      <td>Detroit</td>\n",
       "      <td>Detroit</td>\n",
       "      <td>0</td>\n",
       "    </tr>\n",
       "    <tr>\n",
       "      <th>...</th>\n",
       "      <td>...</td>\n",
       "      <td>...</td>\n",
       "      <td>...</td>\n",
       "    </tr>\n",
       "    <tr>\n",
       "      <th>76</th>\n",
       "      <td>St. Louis</td>\n",
       "      <td>Boston</td>\n",
       "      <td>1217</td>\n",
       "    </tr>\n",
       "    <tr>\n",
       "      <th>77</th>\n",
       "      <td>Detroit</td>\n",
       "      <td>Boston</td>\n",
       "      <td>721</td>\n",
       "    </tr>\n",
       "    <tr>\n",
       "      <th>78</th>\n",
       "      <td>Cincinnati</td>\n",
       "      <td>Boston</td>\n",
       "      <td>907</td>\n",
       "    </tr>\n",
       "    <tr>\n",
       "      <th>79</th>\n",
       "      <td>Pittsburgh</td>\n",
       "      <td>Boston</td>\n",
       "      <td>589</td>\n",
       "    </tr>\n",
       "    <tr>\n",
       "      <th>80</th>\n",
       "      <td>Charlotte</td>\n",
       "      <td>Boston</td>\n",
       "      <td>867</td>\n",
       "    </tr>\n",
       "  </tbody>\n",
       "</table>\n",
       "<p>81 rows × 3 columns</p>\n",
       "</div>"
      ],
      "text/plain": [
       "        Source Destination  Distance\n",
       "0       Boston      Boston         0\n",
       "1      Atlanta     Atlanta         0\n",
       "2     New York    New York         0\n",
       "3    St. Louis   St. Louis         0\n",
       "4      Detroit     Detroit         0\n",
       "..         ...         ...       ...\n",
       "76   St. Louis      Boston      1217\n",
       "77     Detroit      Boston       721\n",
       "78  Cincinnati      Boston       907\n",
       "79  Pittsburgh      Boston       589\n",
       "80   Charlotte      Boston       867\n",
       "\n",
       "[81 rows x 3 columns]"
      ]
     },
     "execution_count": 3,
     "metadata": {},
     "output_type": "execute_result"
    }
   ],
   "source": [
    "small_distances_df = pd.read_csv(os.path.join(\"9_cities_dataset\", \"distances.csv\"))\n",
    "small_distances_df"
   ]
  },
  {
   "cell_type": "markdown",
   "metadata": {},
   "source": [
    "To avoid clogging up this notebook, I won't display the entire `small_distances_dict`. It has 81 entries, one for each pair of cities."
   ]
  },
  {
   "cell_type": "code",
   "execution_count": 4,
   "metadata": {},
   "outputs": [
    {
     "data": {
      "text/plain": [
       "81"
      ]
     },
     "execution_count": 4,
     "metadata": {},
     "output_type": "execute_result"
    }
   ],
   "source": [
    "small_distances_dict = {(row[0], row[1]): row[2] for row in small_distances_df.itertuples(index=False)}\n",
    "len(small_distances_dict)"
   ]
  },
  {
   "cell_type": "markdown",
   "metadata": {},
   "source": [
    "Here are a few examples of how to look up a distance from `small_distances_dict`.  \n",
    "\n",
    "Note that Python has a bit of magic that results in \n",
    "\n",
    "`small_distances_dict[x, y]` \n",
    "\n",
    "being the exact same as \n",
    "\n",
    "`small_distances_dict[(x, y)]`. \n",
    "\n",
    "The latter is a bit more explicit, since each key of `small_distances_dict` is a 2-element `tuple`, but most people omit the paranthesis when reading or writing from a dictionary that is keyed by tuples. "
   ]
  },
  {
   "cell_type": "code",
   "execution_count": 5,
   "metadata": {},
   "outputs": [
    {
     "data": {
      "text/plain": [
       "0"
      ]
     },
     "execution_count": 5,
     "metadata": {},
     "output_type": "execute_result"
    }
   ],
   "source": [
    "small_distances_dict['Boston', 'Boston']"
   ]
  },
  {
   "cell_type": "code",
   "execution_count": 6,
   "metadata": {},
   "outputs": [
    {
     "data": {
      "text/plain": [
       "907"
      ]
     },
     "execution_count": 6,
     "metadata": {},
     "output_type": "execute_result"
    }
   ],
   "source": [
    "small_distances_dict['Cincinnati', 'Boston']"
   ]
  },
  {
   "cell_type": "code",
   "execution_count": 7,
   "metadata": {},
   "outputs": [
    {
     "data": {
      "text/plain": [
       "867"
      ]
     },
     "execution_count": 7,
     "metadata": {},
     "output_type": "execute_result"
    }
   ],
   "source": [
    "small_distances_dict['Charlotte', 'Boston']"
   ]
  },
  {
   "cell_type": "markdown",
   "metadata": {},
   "source": [
    "When you write the code to build and solve the MIP, you can feel free to use the two `DataFrame` objects (`small_cities_df`, `small_distances_df`), or the dictionaries (`small_cities_dict`, `small_distances_dict`). Personally, I prefer to build MIP engines from dictionaries, but this is a matter of taste and not worth arguing over."
   ]
  },
  {
   "cell_type": "markdown",
   "metadata": {},
   "source": [
    "### The Center of Gravity Problem\n",
    "\n",
    "In this subsection we present a system of equations to describe the Center of Gravity problem.\n",
    "\n",
    "Our objective function is to minimize the total weighted assigned distance.\n",
    "\n",
    "**Minimize**:\n",
    "${ \n",
    "\\Sigma_{i{\\in}I} \\Sigma_{j{\\in}I} dist_{i,j} d_j Y_{i,j} \n",
    "}$\n",
    "\n",
    "**Subject to**:\n",
    "\n",
    "We need a set of constraints that ensure that each city is assigned to another city. (Self assignments are allowed).\n",
    "\n",
    "${ \n",
    "\\Sigma_{i{\\in}I} Y_{i,j} = 1; \\forall j \\in I\n",
    "}$\n",
    "\n",
    "We need a single constraint to ensure that exactly *P* cities are opened.\n",
    "\n",
    "${\n",
    "\\Sigma_{i{\\in}I} X_i = P\n",
    "}$\n",
    "\n",
    "We need a set of constraints to ensure that if _j_ is assigned to *i*, \n",
    "\n",
    "then _i_ must be opened."
   ]
  },
  {
   "cell_type": "markdown",
   "metadata": {},
   "source": [
    "\n",
    "${\n",
    "Y_{i,j} \\leq X_i; \\forall i \\in I; \\forall j \\in I\n",
    "}$\n",
    "\n",
    "Finally, all of our variables are binary.\n",
    "\n",
    "${\n",
    "Y_{i,j} \\in \\{0,1\\}; \\forall i \\in I; \\forall j \\in I\n",
    "}$\n",
    "\n",
    "${\n",
    "X_i \\in \\{0,1\\}; \\forall i \\in I\n",
    "}$"
   ]
  },
  {
   "cell_type": "markdown",
   "metadata": {},
   "source": [
    "### Solve the Center of Gravity Problem for 9 cities\n",
    "\n",
    "This is task 1 that I introduced above. You are left to fill in this section as an exercise.\n",
    "\n",
    "Remember, the input data is already loaded into memory. You will populate the MIP by reading from the pair of `DataFrame` objects (`small_cities_df` and `small_distances_df`) **or** by reading from the two dictionary objects (`small_cities_dict`, `small_distances_dict`).\n",
    "\n",
    "For this data set, use a **P** value of 4 (i.e. open exactly 4 cities).\n",
    "\n",
    "If you write your code correctly, then your code will find an optimal solution with an objective value within 0.1% of 5.5277e8. This solution should open \"New York\", \"Detroit\", \"Charlotte\" and \"Chicago\". \"Atlanta\" should be assigned to \"Charlotte\"."
   ]
  },
  {
   "cell_type": "markdown",
   "metadata": {},
   "source": [
    "### Solve the Center of Gravity Problem for 200 cities\n",
    "\n",
    "This is task 2 that I introduced above. You are left to fill in this section as an exercise.\n",
    "\n",
    "Here, you must load data into memory by reading from the csv files in the `200_cities_dataset`. This code will be very similar to the **9_cities_dataset loaded into memory**.\n",
    "\n",
    "You will then create a MIP from the 200 cities data set you loaded into memory. This code will be very similar to the **Solve the Center of Gravity Problem for 9 cities** code you wrote.\n",
    "\n",
    "For this data set, use a **P** value of 3 (i.e. open exactly 3 cities).\n",
    "\n",
    "If you write your code correctly, then you will find an optimal solution with an objective value within 0.1% of 5.9109e8.\n"
   ]
  }
 ],
 "metadata": {
  "kernelspec": {
   "display_name": "Python 3",
   "language": "python",
   "name": "python3"
  },
  "language_info": {
   "codemirror_mode": {
    "name": "ipython",
    "version": 3
   },
   "file_extension": ".py",
   "mimetype": "text/x-python",
   "name": "python",
   "nbconvert_exporter": "python",
   "pygments_lexer": "ipython3",
   "version": "3.7.0"
  }
 },
 "nbformat": 4,
 "nbformat_minor": 2
}
