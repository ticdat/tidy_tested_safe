{
 "cells": [
  {
   "cell_type": "markdown",
   "metadata": {},
   "source": [
    "## Adding Key Performance Indicators to Center of Gravity \n",
    "\n",
    "This is a companion notebook to `simple_center_of_gravity_exercises.ipynb`. Please complete the exercises in that notebook first.\n",
    "\n",
    "I provide no sample code in this notebook. You will complete this notebook by writing code that is very similar to that which you wrote for the `simple_center_of_gravity_exercises.ipynb` notebook.\n",
    "\n",
    "### Key Performance Indicator\n",
    "\n",
    "I've heard \"Key Performance Indicator\" and \"metric\" used somewhat interchangeably in the context of optimization. The idea is that a solution should report on critical aggregate measurements of performance. For the center of gravity problem, we will define two KPIs.\n",
    "\n",
    "* \"Average Service Distance\" This is the average distance of the assignments, weighted by demand.\n",
    "* \"Percentage High Service Demand\". To understand this KPI, assume there is some threshold distance, say 100 miles, that seperates good assignments from bad assignments. So any demand point assigned to a city within 100 miles is said to receive high service, and any demand point assigned to a city more than 100 miles away is said to receive low service. This KPI measures the percentage of demand that enjoys high service assignments."
   ]
  },
  {
   "cell_type": "markdown",
   "metadata": {},
   "source": [
    "### The KPI Adjusted Center of Gravity Problem\n",
    "\n",
    "In this section we present a system of equations to describe a modified Center of Gravity problem that includes our two KPIs.\n",
    "\n",
    "We will use **THD** to define the threshold distance between high and low service. __THD__ was 100 miles in the explanation above."
   ]
  },
  {
   "cell_type": "markdown",
   "metadata": {},
   "source": [
    "We will use **MaxASD** to represent the upper bound on the \"Average Service Distance\" KPI. "
   ]
  },
  {
   "cell_type": "markdown",
   "metadata": {},
   "source": [
    "We will use **MinPHS** to represent the lower bound on the \"Percentage High Service Demand\" KPI. "
   ]
  },
  {
   "cell_type": "markdown",
   "metadata": {},
   "source": [
    "Either one of our KPIs could be the objective for our model. You will rerun your engine with \"Maximize Percentage High Service Demand\" or \"Minimize Average Service Distance\" as appropriate.\n",
    "\n",
    "**Maximize**: __PHS__\n",
    "\n",
    "or"
   ]
  },
  {
   "cell_type": "markdown",
   "metadata": {},
   "source": [
    "**Minimize**: __ASD__\n"
   ]
  },
  {
   "cell_type": "markdown",
   "metadata": {},
   "source": [
    "**Subject to**:\n",
    "\n",
    "We will first set our two KPI variables. Note that both KPI variables are continuous.  \n",
    "\n",
    "Don't be intimidated by the constraint that sets the **ASD** variable. The right-hand-side denominator consists entirely of constants, and thus this is a linear constraint. \n",
    "\n",
    "\n",
    "${ \n",
    "ASD = \\frac{\\Sigma_{i{\\in}I} \\Sigma_{j{\\in}I} dist_{i,j} d_j Y_{i,j}}{\\Sigma_{j{\\in}I} d_j }\n",
    "}$"
   ]
  },
  {
   "cell_type": "markdown",
   "metadata": {},
   "source": [
    "To write the constraint that sets the **PHS** variable, we use the same  logical notation we introduced in Chapter 4 of the [SCND Book](http://networkdesignbook.com/) to describe a boolean test condition. Specifically, \n",
    "${ \n",
    "(10>9?0:1) = 0\n",
    "}$\n",
    "and \n",
    "${ \n",
    "(10\\leq9?0:1) = 1\n",
    "}$. This is just a convenient way to simplify certain systems of equations.\n",
    "\n",
    "Of course __PHS__ is measured as a percent, hence the RHS of the constraint is scaled by 100.\n",
    "\n",
    "${ \n",
    "PHS = 100 \\frac{\\Sigma_{i{\\in}I} \\Sigma_{j{\\in}I} (dist_{i,j}\\leq THD ? 1:0) d_j Y_{i,j}}{\\Sigma_{j{\\in}I} d_j }\n",
    "}$"
   ]
  },
  {
   "cell_type": "markdown",
   "metadata": {},
   "source": [
    "We also need to bound our two KPI variables. "
   ]
  },
  {
   "cell_type": "markdown",
   "metadata": {},
   "source": [
    "${ \n",
    "ASD \\leq MaxASD\n",
    "}$"
   ]
  },
  {
   "cell_type": "markdown",
   "metadata": {},
   "source": [
    "${ \n",
    "PHS \\geq MinPHS\n",
    "}$\n",
    "\n",
    "The rest of our constraints are exactly as before.\n",
    "\n",
    "${ \n",
    "\\Sigma_{i{\\in}I} Y_{i,j} = 1; \\forall j \\in I\n",
    "}$\n",
    "\n",
    "${\n",
    "\\Sigma_{i{\\in}I} X_i = P\n",
    "}$\n",
    "\n",
    "${\n",
    "Y_{i,j} \\leq X_i; \\forall i \\in I; \\forall j \\in I\n",
    "}$\n",
    "\n",
    "${\n",
    "Y_{i,j} \\in \\{0,1\\}; \\forall i \\in I; \\forall j \\in I\n",
    "}$\n",
    "\n",
    "${\n",
    "X_i \\in \\{0,1\\}; \\forall i \\in I\n",
    "}$"
   ]
  },
  {
   "cell_type": "markdown",
   "metadata": {},
   "source": [
    "### Solve the KPI Adjusted Center of Gravity Problem for 9 cities\n",
    "\n",
    "Its a good idea to troubleshoot your math code with small data sets first. People who dive straight into big data sets  just make debugging harder for no productive reason. \n",
    "\n",
    "Before running the new tests I describe below, you should double check that you can reproduce the `9_cities_dataset` result from the `simple_center_of_gravity_exercises.ipynb` notebook. So, with **P** = 4, you should minimize the average service distance. The resulting solution should again  open \"New York\", \"Detroit\", \"Charlotte\" and \"Chicago\". \"Atlanta\" should be assigned to \"Charlotte\". The average service distance of this solution should be within 0.1% of 36.571. You can also double check that the total demand multiplied by 36.571 is 5.5277e8, the same as the objective value of the prior result. "
   ]
  },
  {
   "cell_type": "markdown",
   "metadata": {},
   "source": [
    "Now, rerun your model two more times, validating the following results. Both of these solves are for __P__ = 5 (i.e. opening five cities) and with **THD** (the threshold distance) set to 250.\n"
   ]
  },
  {
   "cell_type": "markdown",
   "metadata": {},
   "source": [
    "* When mimizing Average Service Distance with **MinPHS** = 95, the optimal solution will have an average service distance of 29.694 while meeting 95.77% of demand with high service.\n",
    "* The exact same solution can also be created by maximizing Percentage High Service with **MaxASD** = 30."
   ]
  },
  {
   "cell_type": "markdown",
   "metadata": {},
   "source": [
    "### Solve the KPI Adjusted Center of Gravity Problem for 200 cities\n",
    "\n",
    "In this section, you will solve the KPI Adjusted Center of Gravity problem with the `200_cities_dataset`. Again, you should double check that you can reproduce the results from the `simple_center_of_gravity_exercises.ipynb` notebook before testing the new functionality. So with **P** = 3, you should minimize the average service distance. The resulting solution should have an average service distance of 239.87. You can also double check that the total demand multiplied by 239.87 is 5.91e8, the same as the objective value of the prior result. \n"
   ]
  },
  {
   "cell_type": "markdown",
   "metadata": {},
   "source": [
    "Now, rerun your model two more times, validating the following results. Both of these solves are for __P__ = 3  and with **THD** (the threshold distance) set to 250.\n",
    "* When mimizing Average Service Distance with MinPHS = 61.15, the optimal solution will have an average service distance of 256.56 while meeting 61.15% of demand with high service.\n",
    "* The exact same solution can also be created by maximizing Percentage High Service with MaxASD = 256.8.\n"
   ]
  }
 ],
 "metadata": {
  "kernelspec": {
   "display_name": "Python 3",
   "language": "python",
   "name": "python3"
  },
  "language_info": {
   "codemirror_mode": {
    "name": "ipython",
    "version": 3
   },
   "file_extension": ".py",
   "mimetype": "text/x-python",
   "name": "python",
   "nbconvert_exporter": "python",
   "pygments_lexer": "ipython3",
   "version": "3.7.0"
  }
 },
 "nbformat": 4,
 "nbformat_minor": 2
}
